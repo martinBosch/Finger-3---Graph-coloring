{
 "cells": [
  {
   "cell_type": "code",
   "execution_count": null,
   "metadata": {
    "collapsed": false,
    "scrolled": true,
    "slideshow": {
     "slide_type": "-"
    }
   },
   "outputs": [],
   "source": [
    "archivo_grafo = \"gc_1000_1\"\n",
    "\n",
    "grafoRDD = sc.textFile(archivo_grafo)\n",
    "header = grafoRDD.take(1)[0]\n",
    "cant_nodos = header.split(\" \")[0]\n",
    "\n",
    "aristas = grafoRDD.filter(lambda linea: linea != header)\n",
    "aristas = aristas.map(lambda arista: arista.split(\" \"))\n",
    "aristas = aristas.flatMap(lambda arista: [arista, [arista[1], arista[0]]])\n",
    "\n",
    "\n",
    "vecinos = aristas.groupByKey().mapValues(list)\n",
    "\n",
    "color = dict( vecinos.map(lambda x: (x[0], 0)).collect() )\n",
    "\n",
    "vecinos = vecinos.collect()\n",
    "\n",
    "for nodo_vecinos in vecinos:\n",
    "    nodo = nodo_vecinos[0]\n",
    "    print \"nodo\", nodo\n",
    "    vecinos_nodo = nodo_vecinos[1]\n",
    "    \n",
    "    vecinosRDD = sc.parallelize(vecinos_nodo)\n",
    "    color[nodo] = 1\n",
    "    \n",
    "    vecinos_igual_color = vecinosRDD.filter(lambda vecino: color[vecino] == color[nodo])\n",
    "\n",
    "    while(vecinos_igual_color.isEmpty() != True):\n",
    "        color[nodo] +=1\n",
    "        vecinos_igual_color = vecinosRDD.filter(lambda vecino: color[vecino] == color[nodo])\n",
    "\n",
    "cant_colores = color[max(color, key = color.get)]\n"
   ]
  },
  {
   "cell_type": "code",
   "execution_count": 286,
   "metadata": {
    "collapsed": false
   },
   "outputs": [],
   "source": [
    "# Creacion del archivo de salida\n",
    "\n",
    "archivo = open(archivo_grafo + \"-resultados\", 'w')\n",
    "archivo.write( str(cant_colores) + \"\\n\" )\n",
    "for nodo in xrange(int(cant_nodos)):\n",
    "    nodo = str(nodo)\n",
    "    archivo.write( str(color[nodo]) + \"\\n\" )\n",
    "\n",
    "archivo.close()"
   ]
  },
  {
   "cell_type": "code",
   "execution_count": null,
   "metadata": {
    "collapsed": false
   },
   "outputs": [],
   "source": [
    "for nodo_vecinos in vecinos:\n",
    "    nodo = nodo_vecinos[0]\n",
    "    vecinos_nodo = nodo_vecinos[1]\n",
    "    for vecino in vecinos_nodo:\n",
    "        if color[nodo]==color[vecino]:\n",
    "            print \"Error\"\n",
    "\n",
    "print \"Ok\""
   ]
  },
  {
   "cell_type": "code",
   "execution_count": null,
   "metadata": {
    "collapsed": true
   },
   "outputs": [],
   "source": []
  }
 ],
 "metadata": {
  "kernelspec": {
   "display_name": "pySpark",
   "language": "python",
   "name": "pyspark"
  },
  "language_info": {
   "codemirror_mode": {
    "name": "ipython",
    "version": 2
   },
   "file_extension": ".py",
   "mimetype": "text/x-python",
   "name": "python",
   "nbconvert_exporter": "python",
   "pygments_lexer": "ipython2",
   "version": "2.7.12"
  }
 },
 "nbformat": 4,
 "nbformat_minor": 1
}
